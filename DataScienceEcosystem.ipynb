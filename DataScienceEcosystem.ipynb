{
 "cells": [
  {
   "cell_type": "markdown",
   "id": "561beafe",
   "metadata": {},
   "source": [
    "# Data Science Tools and Ecosystem"
   ]
  },
  {
   "cell_type": "markdown",
   "id": "8c5592ed",
   "metadata": {},
   "source": [
    "Neste notebook, serão listados, resumidademente, diversas ferramentas utilizadas na ciência de dados (Text in portuguese)."
   ]
  },
  {
   "cell_type": "markdown",
   "id": "3e6a809a",
   "metadata": {},
   "source": [
    "**Objetivos:**\n",
    "\n",
    "- Listar linguagens de programação mais usadas por cientistas de dados\n",
    "- Listar bibliotecas usadas por cientistas de dados\n",
    "- Listar ferramentas de ciência de dados"
   ]
  },
  {
   "cell_type": "markdown",
   "id": "b4dc046e",
   "metadata": {},
   "source": [
    "A seguir listarei as linguagens de programação mais usadas por cientistas de dados:\n",
    "\n",
    "* Python\n",
    "* PHP\n",
    "* R"
   ]
  },
  {
   "cell_type": "markdown",
   "id": "8582091a",
   "metadata": {},
   "source": [
    "Algumas das bibliotecas usadas por cientistas de dados são:\n",
    "\n",
    "* TensorFlow\n",
    "* Keras\n",
    "* PyTorch\n",
    "* Pandas\n",
    "* ScikitLearn\n"
   ]
  },
  {
   "cell_type": "markdown",
   "id": "dadcd048",
   "metadata": {},
   "source": [
    "|Ferramentas de Ciência de Dados |\n",
    "|--- | \n",
    "|Apache Cassandra | \n",
    "|CouchDb | \n",
    "|MongoDb | "
   ]
  },
  {
   "cell_type": "markdown",
   "id": "853de2cd",
   "metadata": {},
   "source": [
    "### Abaixo estão alguns exemplos de avaliação de expressões aritméticas em Python"
   ]
  },
  {
   "cell_type": "code",
   "execution_count": 1,
   "id": "32e36965",
   "metadata": {},
   "outputs": [
    {
     "data": {
      "text/plain": [
       "17"
      ]
     },
     "execution_count": 1,
     "metadata": {},
     "output_type": "execute_result"
    }
   ],
   "source": [
    "# Na operação abaixo temos o valor 3 sendo multiplicado pelo valor 4, em seguida, o resultado é somado ao número 5, \n",
    "# levando ao resultado 17\n",
    "(3*4)+5"
   ]
  },
  {
   "cell_type": "code",
   "execution_count": 4,
   "id": "82bd6706",
   "metadata": {},
   "outputs": [
    {
     "data": {
      "text/plain": [
       "3"
      ]
     },
     "execution_count": 4,
     "metadata": {},
     "output_type": "execute_result"
    }
   ],
   "source": [
    "# Na operação abaixo, será convertido o valor 200 minutos em horas através de uma divisão pelo valor 60\n",
    "200 // 60"
   ]
  },
  {
   "cell_type": "markdown",
   "id": "4bd326d6",
   "metadata": {},
   "source": [
    "## Autor:\n",
    "Iury Gustavo Souza Ribeiro Santos"
   ]
  },
  {
   "cell_type": "code",
   "execution_count": null,
   "id": "247640a2",
   "metadata": {},
   "outputs": [],
   "source": []
  }
 ],
 "metadata": {
  "kernelspec": {
   "display_name": "Python 3 (ipykernel)",
   "language": "python",
   "name": "python3"
  },
  "language_info": {
   "codemirror_mode": {
    "name": "ipython",
    "version": 3
   },
   "file_extension": ".py",
   "mimetype": "text/x-python",
   "name": "python",
   "nbconvert_exporter": "python",
   "pygments_lexer": "ipython3",
   "version": "3.11.5"
  }
 },
 "nbformat": 4,
 "nbformat_minor": 5
}
